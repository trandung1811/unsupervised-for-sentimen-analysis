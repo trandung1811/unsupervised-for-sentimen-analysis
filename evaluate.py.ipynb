{
 "cells": [
  {
   "cell_type": "code",
   "execution_count": 36,
   "metadata": {},
   "outputs": [],
   "source": [
    "import math \n",
    "import pandas as pd\n"
   ]
  },
  {
   "cell_type": "code",
   "execution_count": 37,
   "metadata": {},
   "outputs": [],
   "source": [
    "def caculate_TF(word,text):\n",
    "    \n",
    "    num = 0\n",
    "    for item in text:\n",
    "        if word == item: \n",
    "            num += 1\n",
    "    \n",
    "    return math.log(1+num/len(text))\n"
   ]
  },
  {
   "cell_type": "code",
   "execution_count": 38,
   "metadata": {},
   "outputs": [],
   "source": [
    "def caculate_IDF(text_list, word):\n",
    "    \n",
    "    num = 0\n",
    "    for line in text_list:\n",
    "        if word in line: \n",
    "            num += 1\n",
    "    \n",
    "    return math.log(len(text_list)/num)"
   ]
  },
  {
   "cell_type": "code",
   "execution_count": 39,
   "metadata": {},
   "outputs": [],
   "source": [
    "def read_data():\n",
    "    \n",
    "    f = open('clean_data.txt','r')\n",
    "    text_list = f.read().split('\\n')\n",
    "    \n",
    "    sub1_list = []\n",
    "    for i in range(0,len(text_list)-1):\n",
    "        List = []\n",
    "        for item in text_list[i].split():\n",
    "            List.append(item)\n",
    "        sub1_list.append(List)\n",
    "        \n",
    "    f.close()\n",
    "    \n",
    "    f = open('sentiment_dict.txt','r')\n",
    "    sub_list = f.read().split('\\n')\n",
    "   \n",
    "    S_dict = {}\n",
    "    for i in range(0,len(sub_list)-1):\n",
    "        text = sub_list[i].split()\n",
    "        S_dict[text[0]] = float(text[1])\n",
    "    f.close()\n",
    "    \n",
    "    f =open('class.txt','r')\n",
    "    \n",
    "    List_ = f.read().split('\\n')\n",
    "    f.close()\n",
    "    return sub1_list, S_dict, List_\n",
    "        "
   ]
  },
  {
   "cell_type": "code",
   "execution_count": 40,
   "metadata": {},
   "outputs": [],
   "source": [
    "def evaluate(text_list, S_dict,Class_):\n",
    "    \n",
    "    accu = 0\n",
    "    i = 0\n",
    "    num_p = 0\n",
    "    num_n = 0\n",
    "    pre_p = 0\n",
    "    pre_n = 0\n",
    "    for line in text_list:\n",
    "        sum_ = 0\n",
    "        for word in line:\n",
    "            TF_s = caculate_TF(word, line)\n",
    "            IDF_s = caculate_IDF(text_list, word)\n",
    "            if word in S_dict.keys():\n",
    "                 s_score = S_dict[word]\n",
    "            else: \n",
    "                 s_score = 0\n",
    "            sum_ = sum_ + s_score\n",
    "        if sum_ > 0: \n",
    "            Class = 1\n",
    "        else:\n",
    "            Class = 0\n",
    "            \n",
    "        if int(Class_[i]) == 0: \n",
    "            num_n += 1\n",
    "        else:\n",
    "            num_p += 1\n",
    "            \n",
    "        if Class == int(Class_[i]):\n",
    "            accu = accu + 1 \n",
    "            if Class == 1: \n",
    "                pre_p += 1\n",
    "            else:\n",
    "                pre_n += 1\n",
    "        i += 1 \n",
    "   \n",
    "    print(pre_n,\" \",num_n,\" \",num_p)    \n",
    "    print('accuracy rate of neg', pre_n/num_n)\n",
    "    print('accuracy rate of pos', pre_p/num_p)\n",
    "    print('accuracy rate: ', (pre_n+pre_p)/(len(Class_)-1))  \n",
    "        "
   ]
  },
  {
   "cell_type": "code",
   "execution_count": 41,
   "metadata": {},
   "outputs": [],
   "source": [
    "def main():\n",
    "    \n",
    "    text_list, S_dict, Class_ = read_data()\n",
    "    evaluate(text_list, S_dict, Class_)\n",
    "    "
   ]
  },
  {
   "cell_type": "code",
   "execution_count": 42,
   "metadata": {},
   "outputs": [
    {
     "name": "stdout",
     "output_type": "stream",
     "text": [
      "278   500   500\n",
      "accuracy rate of neg 0.556\n",
      "accuracy rate of pos 0.648\n",
      "accuracy rate:  0.602\n"
     ]
    }
   ],
   "source": [
    "main()"
   ]
  },
  {
   "cell_type": "code",
   "execution_count": null,
   "metadata": {},
   "outputs": [],
   "source": []
  }
 ],
 "metadata": {
  "kernelspec": {
   "display_name": "Python 3",
   "language": "python",
   "name": "python3"
  },
  "language_info": {
   "codemirror_mode": {
    "name": "ipython",
    "version": 3
   },
   "file_extension": ".py",
   "mimetype": "text/x-python",
   "name": "python",
   "nbconvert_exporter": "python",
   "pygments_lexer": "ipython3",
   "version": "3.7.7"
  }
 },
 "nbformat": 4,
 "nbformat_minor": 4
}
